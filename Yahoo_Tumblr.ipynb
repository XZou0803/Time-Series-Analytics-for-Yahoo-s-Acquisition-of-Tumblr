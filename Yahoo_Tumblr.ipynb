{
 "cells": [
  {
   "cell_type": "markdown",
   "metadata": {},
   "source": [
    "# Yahoo Tumblr\n",
    "\n",
    "\n",
    "### Xin Zou\n"
   ]
  },
  {
   "cell_type": "markdown",
   "metadata": {},
   "source": [
    "# Introduction\n",
    "\n",
    "This case is aming for forecasing the Tumblr's future performance for next ten years and calibrate the acquisition of Yahoo. The main technique skills we used are monthly-growth rate, simple moving average, and the exponential smoothing models."
   ]
  },
  {
   "cell_type": "markdown",
   "metadata": {},
   "source": [
    "# Background\n",
    "\n",
    "In May 2013, Marissa Mayer, the president and CEO of Yahoo! Inc. (Yahoo), announced Yahoo’s acquisition of Tumblr. Yahoo had agreed to pay $1.1 billion for the popular social network. Tumblr, which had 136 million people accessing its site worldwide in May 2013, up from 113 million 12 months earlier, was poised to become the next Facebook. The trend in the site’s past 38 months of traffic, however, revealed a different pattern."
   ]
  },
  {
   "cell_type": "markdown",
   "metadata": {},
   "source": [
    "# Analysis"
   ]
  },
  {
   "cell_type": "markdown",
   "metadata": {},
   "source": [
    "### Import the data"
   ]
  },
  {
   "cell_type": "code",
   "execution_count": 1,
   "metadata": {},
   "outputs": [],
   "source": [
    "%matplotlib inline\n",
    "import random\n",
    "import numpy as np\n",
    "import pandas as pd\n",
    "from scipy import stats\n",
    "import statsmodels.api as sm # Time Series Analysis\n",
    "import matplotlib.pylab as plt\n",
    "import matplotlib.mlab as mlab\n",
    "import seaborn as sns\n",
    "import boxcox\n",
    "plt.style.use('ggplot')\n",
    "plt.rcParams['figure.figsize'] = 15,8"
   ]
  },
  {
   "cell_type": "code",
   "execution_count": 2,
   "metadata": {},
   "outputs": [],
   "source": [
    "from statsmodels.tsa.api import ExponentialSmoothing, SimpleExpSmoothing\n",
    "from statsmodels.tsa.holtwinters import Holt"
   ]
  },
  {
   "cell_type": "code",
   "execution_count": 3,
   "metadata": {},
   "outputs": [],
   "source": [
    "from pandas import DataFrame, read_csv"
   ]
  },
  {
   "cell_type": "code",
   "execution_count": 4,
   "metadata": {},
   "outputs": [],
   "source": [
    "plt.rcParams['figure.figsize'] = 15,8"
   ]
  },
  {
   "cell_type": "code",
   "execution_count": 5,
   "metadata": {},
   "outputs": [],
   "source": [
    "df1 = pd.read_excel(open('Yahoo.xlsx','rb'),sheet_name='Exhibit 1',index_col=None)"
   ]
  },
  {
   "cell_type": "code",
   "execution_count": 48,
   "metadata": {},
   "outputs": [],
   "source": [
    "df2 = pd.read_excel(open('Yahoo.xlsx','rb'),sheet_name='Exhibit 4',index_col=None)"
   ]
  },
  {
   "cell_type": "markdown",
   "metadata": {},
   "source": []
  },
  {
   "cell_type": "markdown",
   "metadata": {},
   "source": [
    "### Average montly growth rate"
   ]
  },
  {
   "cell_type": "code",
   "execution_count": 7,
   "metadata": {},
   "outputs": [],
   "source": [
    "df1 = df1[4:43].reset_index()"
   ]
  },
  {
   "cell_type": "code",
   "execution_count": 8,
   "metadata": {},
   "outputs": [],
   "source": [
    "df1.columns = df1.iloc[0]\n",
    "df1 = df1[1:]"
   ]
  },
  {
   "cell_type": "code",
   "execution_count": 9,
   "metadata": {},
   "outputs": [],
   "source": [
    "df1 = df1.drop(df1.columns[[0]], axis=1)"
   ]
  },
  {
   "cell_type": "code",
   "execution_count": 10,
   "metadata": {},
   "outputs": [],
   "source": [
    "df1[\"Next\"] = df1.People.shift(1)"
   ]
  },
  {
   "cell_type": "code",
   "execution_count": 11,
   "metadata": {},
   "outputs": [],
   "source": [
    "df1[\"montly_growth_rate\"] = (df1.People-df1.Next)/df1.Next"
   ]
  },
  {
   "cell_type": "code",
   "execution_count": 186,
   "metadata": {},
   "outputs": [
    {
     "data": {
      "text/html": [
       "<div>\n",
       "<style scoped>\n",
       "    .dataframe tbody tr th:only-of-type {\n",
       "        vertical-align: middle;\n",
       "    }\n",
       "\n",
       "    .dataframe tbody tr th {\n",
       "        vertical-align: top;\n",
       "    }\n",
       "\n",
       "    .dataframe thead th {\n",
       "        text-align: right;\n",
       "    }\n",
       "</style>\n",
       "<table border=\"1\" class=\"dataframe\">\n",
       "  <thead>\n",
       "    <tr style=\"text-align: right;\">\n",
       "      <th></th>\n",
       "      <th>Date</th>\n",
       "      <th>Uniques</th>\n",
       "      <th>People</th>\n",
       "      <th>Visits</th>\n",
       "      <th>Page Views</th>\n",
       "      <th>Mobile Web</th>\n",
       "      <th>Next</th>\n",
       "      <th>montly_growth_rate</th>\n",
       "    </tr>\n",
       "  </thead>\n",
       "  <tbody>\n",
       "    <tr>\n",
       "      <th>1</th>\n",
       "      <td>2010-04-01 00:00:00</td>\n",
       "      <td>25349036</td>\n",
       "      <td>19020118</td>\n",
       "      <td>69837544</td>\n",
       "      <td>1015761920</td>\n",
       "      <td>NaN</td>\n",
       "      <td>NaN</td>\n",
       "      <td>NaN</td>\n",
       "    </tr>\n",
       "    <tr>\n",
       "      <th>2</th>\n",
       "      <td>2010-05-01 00:00:00</td>\n",
       "      <td>28001532</td>\n",
       "      <td>21096692</td>\n",
       "      <td>75802128</td>\n",
       "      <td>1061456128</td>\n",
       "      <td>NaN</td>\n",
       "      <td>19020118</td>\n",
       "      <td>0.109178</td>\n",
       "    </tr>\n",
       "    <tr>\n",
       "      <th>3</th>\n",
       "      <td>2010-06-01 00:00:00</td>\n",
       "      <td>30279004</td>\n",
       "      <td>22496896</td>\n",
       "      <td>86279520</td>\n",
       "      <td>1265348480</td>\n",
       "      <td>NaN</td>\n",
       "      <td>21096692</td>\n",
       "      <td>0.0663708</td>\n",
       "    </tr>\n",
       "    <tr>\n",
       "      <th>4</th>\n",
       "      <td>2010-07-01 00:00:00</td>\n",
       "      <td>33237588</td>\n",
       "      <td>24571154</td>\n",
       "      <td>96291688</td>\n",
       "      <td>1470884480</td>\n",
       "      <td>NaN</td>\n",
       "      <td>22496896</td>\n",
       "      <td>0.092202</td>\n",
       "    </tr>\n",
       "    <tr>\n",
       "      <th>5</th>\n",
       "      <td>2010-08-01 00:00:00</td>\n",
       "      <td>37326484</td>\n",
       "      <td>27744680</td>\n",
       "      <td>105718912</td>\n",
       "      <td>1664430976</td>\n",
       "      <td>NaN</td>\n",
       "      <td>24571154</td>\n",
       "      <td>0.129157</td>\n",
       "    </tr>\n",
       "    <tr>\n",
       "      <th>6</th>\n",
       "      <td>2010-09-01 00:00:00</td>\n",
       "      <td>40863800</td>\n",
       "      <td>30076088</td>\n",
       "      <td>119718336</td>\n",
       "      <td>1854833792</td>\n",
       "      <td>NaN</td>\n",
       "      <td>27744680</td>\n",
       "      <td>0.0840308</td>\n",
       "    </tr>\n",
       "    <tr>\n",
       "      <th>7</th>\n",
       "      <td>2010-10-01 00:00:00</td>\n",
       "      <td>43169608</td>\n",
       "      <td>31175164</td>\n",
       "      <td>134986816</td>\n",
       "      <td>2291991808</td>\n",
       "      <td>NaN</td>\n",
       "      <td>30076088</td>\n",
       "      <td>0.0365432</td>\n",
       "    </tr>\n",
       "    <tr>\n",
       "      <th>8</th>\n",
       "      <td>2010-11-01 00:00:00</td>\n",
       "      <td>47188576</td>\n",
       "      <td>33880472</td>\n",
       "      <td>150272848</td>\n",
       "      <td>2823663104</td>\n",
       "      <td>NaN</td>\n",
       "      <td>31175164</td>\n",
       "      <td>0.0867777</td>\n",
       "    </tr>\n",
       "    <tr>\n",
       "      <th>9</th>\n",
       "      <td>2010-12-01 00:00:00</td>\n",
       "      <td>49037412</td>\n",
       "      <td>34924704</td>\n",
       "      <td>160452736</td>\n",
       "      <td>3311109376</td>\n",
       "      <td>NaN</td>\n",
       "      <td>33880472</td>\n",
       "      <td>0.0308211</td>\n",
       "    </tr>\n",
       "    <tr>\n",
       "      <th>10</th>\n",
       "      <td>2011-01-01 00:00:00</td>\n",
       "      <td>57963812</td>\n",
       "      <td>41301888</td>\n",
       "      <td>188368416</td>\n",
       "      <td>4086928384</td>\n",
       "      <td>NaN</td>\n",
       "      <td>34924704</td>\n",
       "      <td>0.182598</td>\n",
       "    </tr>\n",
       "    <tr>\n",
       "      <th>11</th>\n",
       "      <td>2011-02-01 00:00:00</td>\n",
       "      <td>66005040</td>\n",
       "      <td>47274360</td>\n",
       "      <td>209648432</td>\n",
       "      <td>4557380608</td>\n",
       "      <td>NaN</td>\n",
       "      <td>41301888</td>\n",
       "      <td>0.144605</td>\n",
       "    </tr>\n",
       "    <tr>\n",
       "      <th>12</th>\n",
       "      <td>2011-03-01 00:00:00</td>\n",
       "      <td>71810592</td>\n",
       "      <td>51564920</td>\n",
       "      <td>225196544</td>\n",
       "      <td>4985839616</td>\n",
       "      <td>NaN</td>\n",
       "      <td>47274360</td>\n",
       "      <td>0.0907587</td>\n",
       "    </tr>\n",
       "    <tr>\n",
       "      <th>13</th>\n",
       "      <td>2011-04-01 00:00:00</td>\n",
       "      <td>81144880</td>\n",
       "      <td>58317276</td>\n",
       "      <td>252242864</td>\n",
       "      <td>6072128512</td>\n",
       "      <td>NaN</td>\n",
       "      <td>51564920</td>\n",
       "      <td>0.130949</td>\n",
       "    </tr>\n",
       "    <tr>\n",
       "      <th>14</th>\n",
       "      <td>2011-05-01 00:00:00</td>\n",
       "      <td>86220960</td>\n",
       "      <td>61791824</td>\n",
       "      <td>269872768</td>\n",
       "      <td>6633003520</td>\n",
       "      <td>NaN</td>\n",
       "      <td>58317276</td>\n",
       "      <td>0.0595801</td>\n",
       "    </tr>\n",
       "    <tr>\n",
       "      <th>15</th>\n",
       "      <td>2011-06-01 00:00:00</td>\n",
       "      <td>92864688</td>\n",
       "      <td>65738312</td>\n",
       "      <td>302446528</td>\n",
       "      <td>8395395584</td>\n",
       "      <td>NaN</td>\n",
       "      <td>61791824</td>\n",
       "      <td>0.0638675</td>\n",
       "    </tr>\n",
       "    <tr>\n",
       "      <th>16</th>\n",
       "      <td>2011-07-01 00:00:00</td>\n",
       "      <td>96766816</td>\n",
       "      <td>68923552</td>\n",
       "      <td>307647744</td>\n",
       "      <td>11171966976</td>\n",
       "      <td>NaN</td>\n",
       "      <td>65738312</td>\n",
       "      <td>0.0484533</td>\n",
       "    </tr>\n",
       "    <tr>\n",
       "      <th>17</th>\n",
       "      <td>2011-08-01 00:00:00</td>\n",
       "      <td>102736800</td>\n",
       "      <td>72821928</td>\n",
       "      <td>331085056</td>\n",
       "      <td>11710914560</td>\n",
       "      <td>NaN</td>\n",
       "      <td>68923552</td>\n",
       "      <td>0.0565609</td>\n",
       "    </tr>\n",
       "    <tr>\n",
       "      <th>18</th>\n",
       "      <td>2011-09-01 00:00:00</td>\n",
       "      <td>103348104</td>\n",
       "      <td>73609824</td>\n",
       "      <td>327252672</td>\n",
       "      <td>11661173760</td>\n",
       "      <td>NaN</td>\n",
       "      <td>72821928</td>\n",
       "      <td>0.0108195</td>\n",
       "    </tr>\n",
       "    <tr>\n",
       "      <th>19</th>\n",
       "      <td>2011-10-01 00:00:00</td>\n",
       "      <td>108685128</td>\n",
       "      <td>78024504</td>\n",
       "      <td>333555968</td>\n",
       "      <td>12117823488</td>\n",
       "      <td>NaN</td>\n",
       "      <td>73609824</td>\n",
       "      <td>0.0599741</td>\n",
       "    </tr>\n",
       "    <tr>\n",
       "      <th>20</th>\n",
       "      <td>2011-11-01 00:00:00</td>\n",
       "      <td>115729016</td>\n",
       "      <td>82445192</td>\n",
       "      <td>363336992</td>\n",
       "      <td>13037852672</td>\n",
       "      <td>8937000</td>\n",
       "      <td>78024504</td>\n",
       "      <td>0.0566577</td>\n",
       "    </tr>\n",
       "    <tr>\n",
       "      <th>21</th>\n",
       "      <td>2011-12-01 00:00:00</td>\n",
       "      <td>128263416</td>\n",
       "      <td>92087096</td>\n",
       "      <td>388764448</td>\n",
       "      <td>14020779008</td>\n",
       "      <td>11940532</td>\n",
       "      <td>82445192</td>\n",
       "      <td>0.116949</td>\n",
       "    </tr>\n",
       "    <tr>\n",
       "      <th>22</th>\n",
       "      <td>2012-01-01 00:00:00</td>\n",
       "      <td>141254192</td>\n",
       "      <td>102296752</td>\n",
       "      <td>411443200</td>\n",
       "      <td>15470049280</td>\n",
       "      <td>13382846</td>\n",
       "      <td>92087096</td>\n",
       "      <td>0.11087</td>\n",
       "    </tr>\n",
       "    <tr>\n",
       "      <th>23</th>\n",
       "      <td>2012-02-01 00:00:00</td>\n",
       "      <td>150845248</td>\n",
       "      <td>109841544</td>\n",
       "      <td>427660064</td>\n",
       "      <td>15600432128</td>\n",
       "      <td>14279108</td>\n",
       "      <td>102296752</td>\n",
       "      <td>0.073754</td>\n",
       "    </tr>\n",
       "    <tr>\n",
       "      <th>24</th>\n",
       "      <td>2012-03-01 00:00:00</td>\n",
       "      <td>144538016</td>\n",
       "      <td>104106168</td>\n",
       "      <td>428548096</td>\n",
       "      <td>14919027712</td>\n",
       "      <td>14945914</td>\n",
       "      <td>109841544</td>\n",
       "      <td>-0.052215</td>\n",
       "    </tr>\n",
       "    <tr>\n",
       "      <th>25</th>\n",
       "      <td>2012-04-01 00:00:00</td>\n",
       "      <td>159860096</td>\n",
       "      <td>115758448</td>\n",
       "      <td>459963648</td>\n",
       "      <td>16286919680</td>\n",
       "      <td>17206288</td>\n",
       "      <td>104106168</td>\n",
       "      <td>0.111927</td>\n",
       "    </tr>\n",
       "    <tr>\n",
       "      <th>26</th>\n",
       "      <td>2012-05-01 00:00:00</td>\n",
       "      <td>157223536</td>\n",
       "      <td>113899360</td>\n",
       "      <td>452455072</td>\n",
       "      <td>14786557952</td>\n",
       "      <td>16491142</td>\n",
       "      <td>115758448</td>\n",
       "      <td>-0.0160601</td>\n",
       "    </tr>\n",
       "    <tr>\n",
       "      <th>27</th>\n",
       "      <td>2012-06-01 00:00:00</td>\n",
       "      <td>150399104</td>\n",
       "      <td>108543472</td>\n",
       "      <td>440980480</td>\n",
       "      <td>15352449024</td>\n",
       "      <td>15773518</td>\n",
       "      <td>113899360</td>\n",
       "      <td>-0.047023</td>\n",
       "    </tr>\n",
       "    <tr>\n",
       "      <th>28</th>\n",
       "      <td>2012-07-01 00:00:00</td>\n",
       "      <td>156465760</td>\n",
       "      <td>112769072</td>\n",
       "      <td>459181536</td>\n",
       "      <td>15903661056</td>\n",
       "      <td>19840210</td>\n",
       "      <td>108543472</td>\n",
       "      <td>0.03893</td>\n",
       "    </tr>\n",
       "    <tr>\n",
       "      <th>29</th>\n",
       "      <td>2012-08-01 00:00:00</td>\n",
       "      <td>166808528</td>\n",
       "      <td>120256160</td>\n",
       "      <td>485624512</td>\n",
       "      <td>14668607488</td>\n",
       "      <td>22140054</td>\n",
       "      <td>112769072</td>\n",
       "      <td>0.0663931</td>\n",
       "    </tr>\n",
       "    <tr>\n",
       "      <th>30</th>\n",
       "      <td>2012-09-01 00:00:00</td>\n",
       "      <td>172062880</td>\n",
       "      <td>124390192</td>\n",
       "      <td>493932928</td>\n",
       "      <td>13998592000</td>\n",
       "      <td>26643136</td>\n",
       "      <td>120256160</td>\n",
       "      <td>0.0343769</td>\n",
       "    </tr>\n",
       "    <tr>\n",
       "      <th>31</th>\n",
       "      <td>2012-10-01 00:00:00</td>\n",
       "      <td>184667216</td>\n",
       "      <td>134480224</td>\n",
       "      <td>510799456</td>\n",
       "      <td>15234562048</td>\n",
       "      <td>29179220</td>\n",
       "      <td>124390192</td>\n",
       "      <td>0.081116</td>\n",
       "    </tr>\n",
       "    <tr>\n",
       "      <th>32</th>\n",
       "      <td>2012-11-01 00:00:00</td>\n",
       "      <td>201892656</td>\n",
       "      <td>147525568</td>\n",
       "      <td>543773824</td>\n",
       "      <td>16674483200</td>\n",
       "      <td>31805100</td>\n",
       "      <td>134480224</td>\n",
       "      <td>0.0970057</td>\n",
       "    </tr>\n",
       "    <tr>\n",
       "      <th>33</th>\n",
       "      <td>2012-12-01 00:00:00</td>\n",
       "      <td>197982400</td>\n",
       "      <td>145602464</td>\n",
       "      <td>521876704</td>\n",
       "      <td>16516643840</td>\n",
       "      <td>35192792</td>\n",
       "      <td>147525568</td>\n",
       "      <td>-0.0130357</td>\n",
       "    </tr>\n",
       "    <tr>\n",
       "      <th>34</th>\n",
       "      <td>2013-01-01 00:00:00</td>\n",
       "      <td>200280768</td>\n",
       "      <td>146146144</td>\n",
       "      <td>543114240</td>\n",
       "      <td>16718012416</td>\n",
       "      <td>39517752</td>\n",
       "      <td>145602464</td>\n",
       "      <td>0.003734</td>\n",
       "    </tr>\n",
       "    <tr>\n",
       "      <th>35</th>\n",
       "      <td>2013-02-01 00:00:00</td>\n",
       "      <td>188579824</td>\n",
       "      <td>140544144</td>\n",
       "      <td>475777344</td>\n",
       "      <td>14677705728</td>\n",
       "      <td>38900468</td>\n",
       "      <td>146146144</td>\n",
       "      <td>-0.0383315</td>\n",
       "    </tr>\n",
       "    <tr>\n",
       "      <th>36</th>\n",
       "      <td>2013-03-01 00:00:00</td>\n",
       "      <td>184908016</td>\n",
       "      <td>136447584</td>\n",
       "      <td>485839744</td>\n",
       "      <td>13837069312</td>\n",
       "      <td>34973080</td>\n",
       "      <td>140544144</td>\n",
       "      <td>-0.0291479</td>\n",
       "    </tr>\n",
       "    <tr>\n",
       "      <th>37</th>\n",
       "      <td>2013-04-01 00:00:00</td>\n",
       "      <td>191476128</td>\n",
       "      <td>138832112</td>\n",
       "      <td>536019584</td>\n",
       "      <td>12958793728</td>\n",
       "      <td>38361680</td>\n",
       "      <td>136447584</td>\n",
       "      <td>0.0174758</td>\n",
       "    </tr>\n",
       "    <tr>\n",
       "      <th>38</th>\n",
       "      <td>2013-05-01 00:00:00</td>\n",
       "      <td>186668560</td>\n",
       "      <td>136477904</td>\n",
       "      <td>507532928</td>\n",
       "      <td>13379749888</td>\n",
       "      <td>36820980</td>\n",
       "      <td>138832112</td>\n",
       "      <td>-0.0169572</td>\n",
       "    </tr>\n",
       "  </tbody>\n",
       "</table>\n",
       "</div>"
      ],
      "text/plain": [
       "0                  Date    Uniques     People     Visits   Page Views  \\\n",
       "1   2010-04-01 00:00:00   25349036   19020118   69837544   1015761920   \n",
       "2   2010-05-01 00:00:00   28001532   21096692   75802128   1061456128   \n",
       "3   2010-06-01 00:00:00   30279004   22496896   86279520   1265348480   \n",
       "4   2010-07-01 00:00:00   33237588   24571154   96291688   1470884480   \n",
       "5   2010-08-01 00:00:00   37326484   27744680  105718912   1664430976   \n",
       "6   2010-09-01 00:00:00   40863800   30076088  119718336   1854833792   \n",
       "7   2010-10-01 00:00:00   43169608   31175164  134986816   2291991808   \n",
       "8   2010-11-01 00:00:00   47188576   33880472  150272848   2823663104   \n",
       "9   2010-12-01 00:00:00   49037412   34924704  160452736   3311109376   \n",
       "10  2011-01-01 00:00:00   57963812   41301888  188368416   4086928384   \n",
       "11  2011-02-01 00:00:00   66005040   47274360  209648432   4557380608   \n",
       "12  2011-03-01 00:00:00   71810592   51564920  225196544   4985839616   \n",
       "13  2011-04-01 00:00:00   81144880   58317276  252242864   6072128512   \n",
       "14  2011-05-01 00:00:00   86220960   61791824  269872768   6633003520   \n",
       "15  2011-06-01 00:00:00   92864688   65738312  302446528   8395395584   \n",
       "16  2011-07-01 00:00:00   96766816   68923552  307647744  11171966976   \n",
       "17  2011-08-01 00:00:00  102736800   72821928  331085056  11710914560   \n",
       "18  2011-09-01 00:00:00  103348104   73609824  327252672  11661173760   \n",
       "19  2011-10-01 00:00:00  108685128   78024504  333555968  12117823488   \n",
       "20  2011-11-01 00:00:00  115729016   82445192  363336992  13037852672   \n",
       "21  2011-12-01 00:00:00  128263416   92087096  388764448  14020779008   \n",
       "22  2012-01-01 00:00:00  141254192  102296752  411443200  15470049280   \n",
       "23  2012-02-01 00:00:00  150845248  109841544  427660064  15600432128   \n",
       "24  2012-03-01 00:00:00  144538016  104106168  428548096  14919027712   \n",
       "25  2012-04-01 00:00:00  159860096  115758448  459963648  16286919680   \n",
       "26  2012-05-01 00:00:00  157223536  113899360  452455072  14786557952   \n",
       "27  2012-06-01 00:00:00  150399104  108543472  440980480  15352449024   \n",
       "28  2012-07-01 00:00:00  156465760  112769072  459181536  15903661056   \n",
       "29  2012-08-01 00:00:00  166808528  120256160  485624512  14668607488   \n",
       "30  2012-09-01 00:00:00  172062880  124390192  493932928  13998592000   \n",
       "31  2012-10-01 00:00:00  184667216  134480224  510799456  15234562048   \n",
       "32  2012-11-01 00:00:00  201892656  147525568  543773824  16674483200   \n",
       "33  2012-12-01 00:00:00  197982400  145602464  521876704  16516643840   \n",
       "34  2013-01-01 00:00:00  200280768  146146144  543114240  16718012416   \n",
       "35  2013-02-01 00:00:00  188579824  140544144  475777344  14677705728   \n",
       "36  2013-03-01 00:00:00  184908016  136447584  485839744  13837069312   \n",
       "37  2013-04-01 00:00:00  191476128  138832112  536019584  12958793728   \n",
       "38  2013-05-01 00:00:00  186668560  136477904  507532928  13379749888   \n",
       "\n",
       "0  Mobile Web       Next montly_growth_rate  \n",
       "1         NaN        NaN                NaN  \n",
       "2         NaN   19020118           0.109178  \n",
       "3         NaN   21096692          0.0663708  \n",
       "4         NaN   22496896           0.092202  \n",
       "5         NaN   24571154           0.129157  \n",
       "6         NaN   27744680          0.0840308  \n",
       "7         NaN   30076088          0.0365432  \n",
       "8         NaN   31175164          0.0867777  \n",
       "9         NaN   33880472          0.0308211  \n",
       "10        NaN   34924704           0.182598  \n",
       "11        NaN   41301888           0.144605  \n",
       "12        NaN   47274360          0.0907587  \n",
       "13        NaN   51564920           0.130949  \n",
       "14        NaN   58317276          0.0595801  \n",
       "15        NaN   61791824          0.0638675  \n",
       "16        NaN   65738312          0.0484533  \n",
       "17        NaN   68923552          0.0565609  \n",
       "18        NaN   72821928          0.0108195  \n",
       "19        NaN   73609824          0.0599741  \n",
       "20    8937000   78024504          0.0566577  \n",
       "21   11940532   82445192           0.116949  \n",
       "22   13382846   92087096            0.11087  \n",
       "23   14279108  102296752           0.073754  \n",
       "24   14945914  109841544          -0.052215  \n",
       "25   17206288  104106168           0.111927  \n",
       "26   16491142  115758448         -0.0160601  \n",
       "27   15773518  113899360          -0.047023  \n",
       "28   19840210  108543472            0.03893  \n",
       "29   22140054  112769072          0.0663931  \n",
       "30   26643136  120256160          0.0343769  \n",
       "31   29179220  124390192           0.081116  \n",
       "32   31805100  134480224          0.0970057  \n",
       "33   35192792  147525568         -0.0130357  \n",
       "34   39517752  145602464           0.003734  \n",
       "35   38900468  146146144         -0.0383315  \n",
       "36   34973080  140544144         -0.0291479  \n",
       "37   38361680  136447584          0.0174758  \n",
       "38   36820980  138832112         -0.0169572  "
      ]
     },
     "execution_count": 186,
     "metadata": {},
     "output_type": "execute_result"
    }
   ],
   "source": [
    "df1"
   ]
  },
  {
   "cell_type": "code",
   "execution_count": 14,
   "metadata": {},
   "outputs": [
    {
     "data": {
      "text/plain": [
       "0.05620714320825897"
      ]
     },
     "execution_count": 14,
     "metadata": {},
     "output_type": "execute_result"
    }
   ],
   "source": [
    "df1.montly_growth_rate.mean()"
   ]
  },
  {
   "cell_type": "code",
   "execution_count": 17,
   "metadata": {},
   "outputs": [
    {
     "name": "stdout",
     "output_type": "stream",
     "text": [
      "The predict accessing number in December 2022 is 73486723098\n"
     ]
    }
   ],
   "source": [
    "r0 = 136477904\n",
    "for i in range(0,115):\n",
    "    r0 += r0*0.05620714320825897\n",
    "print (\"The predict accessing number in December 2022 is \" + str(round(r0)))"
   ]
  },
  {
   "cell_type": "markdown",
   "metadata": {},
   "source": [
    "### Moving average"
   ]
  },
  {
   "cell_type": "code",
   "execution_count": 18,
   "metadata": {},
   "outputs": [],
   "source": [
    "Y1 = df1[\"People\"].tolist()"
   ]
  },
  {
   "cell_type": "code",
   "execution_count": 19,
   "metadata": {},
   "outputs": [],
   "source": [
    "import math"
   ]
  },
  {
   "cell_type": "code",
   "execution_count": 20,
   "metadata": {},
   "outputs": [],
   "source": [
    "def moving_avg(n,k):\n",
    "    yhat = []\n",
    "    for i in range(0,n):\n",
    "        sma = 0.0\n",
    "        sma = math.fsum(Y1[i:i+k])\n",
    "        yhat.append(sma/k)\n",
    "        Y1.append(sma/k)\n",
    "    return yhat"
   ]
  },
  {
   "cell_type": "code",
   "execution_count": 21,
   "metadata": {},
   "outputs": [],
   "source": [
    "def mse(y,yhat,n):\n",
    "    mse = 0.0\n",
    "    for i in range(0,n):\n",
    "        mse+=((Y1[i+(38-n)]-yhat[i])**2)\n",
    "    return mse/n\n",
    "              \n",
    "def rmse(y,yhat,n):\n",
    "    return math.sqrt(mse(y,yhat,n))\n"
   ]
  },
  {
   "cell_type": "code",
   "execution_count": 22,
   "metadata": {},
   "outputs": [],
   "source": [
    "rmse_list = []\n",
    "for k in range(1,38):\n",
    "    yhat = moving_avg(38,k)\n",
    "    #mse = mse(Y1,yhat,(38-k))\n",
    "    rmse_list.append(rmse(Y1,yhat,(38-k)))"
   ]
  },
  {
   "cell_type": "code",
   "execution_count": 23,
   "metadata": {},
   "outputs": [
    {
     "data": {
      "text/plain": [
       "0"
      ]
     },
     "execution_count": 23,
     "metadata": {},
     "output_type": "execute_result"
    }
   ],
   "source": [
    "rmse_list.index(min(rmse_list))  # Find the minimum RMSE for setting the window"
   ]
  },
  {
   "cell_type": "code",
   "execution_count": 24,
   "metadata": {},
   "outputs": [],
   "source": [
    "n = 180\n",
    "yhat = []\n",
    "k = 2 #Set the window for only rolling for 1\n",
    "\n",
    "for i in range(0,n):\n",
    "    sma = 0.0\n",
    "    sma = math.fsum(Y1[i:i+k])\n",
    "    yhat.append(sma/k)\n",
    "    Y1.append(sma/k)"
   ]
  },
  {
   "cell_type": "code",
   "execution_count": 27,
   "metadata": {},
   "outputs": [
    {
     "name": "stdout",
     "output_type": "stream",
     "text": [
      "If using moving average, the predict accessing number in December 2022 is 23977356\n"
     ]
    }
   ],
   "source": [
    "print (\"If using moving average, the predict accessing number in December 2022 is \" + str(round(Y1[153])))"
   ]
  },
  {
   "cell_type": "markdown",
   "metadata": {},
   "source": [
    "### We can also splite the data into training and test group"
   ]
  },
  {
   "cell_type": "code",
   "execution_count": 28,
   "metadata": {},
   "outputs": [],
   "source": [
    "train = df1[0:30]\n",
    "test = df1[30:38]"
   ]
  },
  {
   "cell_type": "code",
   "execution_count": 29,
   "metadata": {},
   "outputs": [],
   "source": [
    "y_hat_sma = test.copy()"
   ]
  },
  {
   "cell_type": "code",
   "execution_count": 30,
   "metadata": {},
   "outputs": [],
   "source": [
    "y_hat_sma[\"moving_avg_forecast\"] = train[\"People\"].rolling(2).mean().iloc[-1]"
   ]
  },
  {
   "cell_type": "code",
   "execution_count": 31,
   "metadata": {},
   "outputs": [
    {
     "data": {
      "image/png": "[encoded data removed]",
      "text/plain": [
       "<Figure size 1152x576 with 1 Axes>"
      ]
     },
     "metadata": {
      "needs_background": "light"
     },
     "output_type": "display_data"
    }
   ],
   "source": [
    "plt.figure(figsize=(16,8))\n",
    "plt.plot(train['People'], label='Train')\n",
    "plt.plot(test['People'], label='Test')\n",
    "plt.plot(y_hat_sma['moving_avg_forecast'], label='Moving Average Forecast')\n",
    "plt.legend(loc='best')\n",
    "plt.show()"
   ]
  },
  {
   "cell_type": "code",
   "execution_count": 33,
   "metadata": {},
   "outputs": [
    {
     "name": "stdout",
     "output_type": "stream",
     "text": [
      "The RMSE for the SMA is 19028982.17695019\n"
     ]
    }
   ],
   "source": [
    "from sklearn.metrics import mean_squared_error\n",
    "from math import sqrt\n",
    "rms = sqrt(mean_squared_error(test.People, y_hat_sma.moving_avg_forecast))\n",
    "print(\"The RMSE for the SMA is \" + str(rms))"
   ]
  },
  {
   "cell_type": "code",
   "execution_count": 34,
   "metadata": {},
   "outputs": [
    {
     "data": {
      "text/plain": [
       "0.02195992040708468"
      ]
     },
     "execution_count": 34,
     "metadata": {},
     "output_type": "execute_result"
    }
   ],
   "source": [
    "df1.montly_growth_rate[27:38].mean()"
   ]
  },
  {
   "cell_type": "code",
   "execution_count": 35,
   "metadata": {},
   "outputs": [
    {
     "data": {
      "text/plain": [
       "0.05620714320825897"
      ]
     },
     "execution_count": 35,
     "metadata": {},
     "output_type": "execute_result"
    }
   ],
   "source": [
    "df1.montly_growth_rate.mean()"
   ]
  },
  {
   "cell_type": "markdown",
   "metadata": {},
   "source": [
    "The average monthly growth rate over the past 12 months is **only half** of the average monthly growth rate over the past 37 months."
   ]
  },
  {
   "cell_type": "markdown",
   "metadata": {},
   "source": [
    "### Q3\n",
    "\n",
    "Run exponential smoothing models against the data:\n",
    "\n",
    "    (i) Holt's Linear Trend Model  \n",
    "    (ii) Holt's Exponential Trend Model, and  \n",
    "    (iii) Multiplicative Damped Trend Model\n",
    "    \n",
    "Which of your three models best fits the data?  Which would you select as your basis to forecast future cash flows and why?"
   ]
  },
  {
   "cell_type": "markdown",
   "metadata": {},
   "source": [
    "### Holt's Linear Trend Model"
   ]
  },
  {
   "cell_type": "code",
   "execution_count": 36,
   "metadata": {},
   "outputs": [
    {
     "data": {
      "image/png": "[encoded data removed]",
      "text/plain": [
       "<Figure size 1152x576 with 1 Axes>"
      ]
     },
     "metadata": {
      "needs_background": "light"
     },
     "output_type": "display_data"
    }
   ],
   "source": [
    "y_hat_linear = test.copy()\n",
    "\n",
    "fit1 = Holt(np.asarray(train['People'])).fit(smoothing_level = 0.6,smoothing_slope = 0.6) #alpha is calculated by 2/(2+1)\n",
    "y_hat_linear['Holt_linear'] = fit1.forecast(len(test))\n",
    "\n",
    "plt.figure(figsize=(16,8))\n",
    "plt.plot(train['People'], label='Train')\n",
    "plt.plot(test['People'], label='Test')\n",
    "plt.plot(y_hat_linear['Holt_linear'], label='Holt_linear')\n",
    "plt.legend(loc='best')\n",
    "plt.show()"
   ]
  },
  {
   "cell_type": "code",
   "execution_count": 37,
   "metadata": {},
   "outputs": [
    {
     "name": "stdout",
     "output_type": "stream",
     "text": [
      "The RMSE for the Holt's Linear Trend Model is 12379931.182362486\n"
     ]
    }
   ],
   "source": [
    "rms = sqrt(mean_squared_error(test.People, y_hat_linear.Holt_linear))\n",
    "print(\"The RMSE for the Holt's Linear Trend Model is \" + str(rms))"
   ]
  },
  {
   "cell_type": "markdown",
   "metadata": {},
   "source": [
    "### Holt's Exponential Trend Model"
   ]
  },
  {
   "cell_type": "code",
   "execution_count": 38,
   "metadata": {},
   "outputs": [
    {
     "data": {
      "image/png": "[encoded data removed]",
      "text/plain": [
       "<Figure size 1152x576 with 1 Axes>"
      ]
     },
     "metadata": {
      "needs_background": "light"
     },
     "output_type": "display_data"
    }
   ],
   "source": [
    "from statsmodels.tsa.api import ExponentialSmoothing, SimpleExpSmoothing, Holt\n",
    "\n",
    "y_hat_exp = test.copy()\n",
    "fit2 = SimpleExpSmoothing(np.asarray(train['People'])).fit(smoothing_level=0.6,optimized=False)\n",
    "y_hat_exp['SES'] = fit2.forecast(len(test))\n",
    "plt.figure(figsize=(16,8))\n",
    "plt.plot(train['People'], label='Train')\n",
    "plt.plot(test['People'], label='Test')\n",
    "plt.plot(y_hat_exp['SES'], label='SES')\n",
    "plt.legend(loc='best')\n",
    "plt.show()"
   ]
  },
  {
   "cell_type": "code",
   "execution_count": 39,
   "metadata": {},
   "outputs": [
    {
     "name": "stdout",
     "output_type": "stream",
     "text": [
      "The RMSE for the Holt's Exponential Trend Model is 19946840.994889244\n"
     ]
    }
   ],
   "source": [
    "rms = sqrt(mean_squared_error(test.People, y_hat_exp.SES))\n",
    "print(\"The RMSE for the Holt's Exponential Trend Model is \" + str(rms))"
   ]
  },
  {
   "cell_type": "markdown",
   "metadata": {},
   "source": [
    "### Multiplicative Damped Trend Model"
   ]
  },
  {
   "cell_type": "code",
   "execution_count": 40,
   "metadata": {},
   "outputs": [
    {
     "data": {
      "image/png": "[encoded data removed]",
      "text/plain": [
       "<Figure size 1152x576 with 1 Axes>"
      ]
     },
     "metadata": {
      "needs_background": "light"
     },
     "output_type": "display_data"
    }
   ],
   "source": [
    "y_hat_damp = test.copy()\n",
    "\n",
    "fit3 = Holt(np.asarray(train['People']),damped=True).fit(smoothing_level = 0.6,smoothing_slope = 0.6) #Delete context in fit()\n",
    "y_hat_damp['Holt_damped'] = fit3.forecast(len(test))\n",
    "\n",
    "plt.figure(figsize=(16,8))\n",
    "plt.plot(train['People'], label='Train')\n",
    "plt.plot(test['People'], label='Test')\n",
    "plt.plot(y_hat_damp['Holt_damped'], label='Holt_damped')\n",
    "plt.legend(loc='best')\n",
    "plt.show()"
   ]
  },
  {
   "cell_type": "code",
   "execution_count": 41,
   "metadata": {},
   "outputs": [
    {
     "name": "stdout",
     "output_type": "stream",
     "text": [
      "The RMSE for the Multiplicative Damped Trend Model is 9762788.03006129\n"
     ]
    }
   ],
   "source": [
    "rms = sqrt(mean_squared_error(test.People, y_hat_damp.Holt_damped))\n",
    "print(\"The RMSE for the Multiplicative Damped Trend Model is \" + str(rms))"
   ]
  },
  {
   "cell_type": "markdown",
   "metadata": {},
   "source": [
    "I would suggest that we use the Multiplicative Damped Trend Model to make the forecast, since the RMSE is the smallest, and the user number will not increase as infinity so using the damped make sense."
   ]
  },
  {
   "cell_type": "code",
   "execution_count": 182,
   "metadata": {},
   "outputs": [],
   "source": [
    "pred = fit3.predict(start=0, end=153)"
   ]
  },
  {
   "cell_type": "code",
   "execution_count": 183,
   "metadata": {},
   "outputs": [
    {
     "name": "stdout",
     "output_type": "stream",
     "text": [
      "THe forecasts of people in Decemver 2022 is 157866819.0\n"
     ]
    }
   ],
   "source": [
    "print (\"THe forecasts of people in Decemver 2022 is \" + str(round(pred[-1])))"
   ]
  },
  {
   "cell_type": "code",
   "execution_count": 44,
   "metadata": {},
   "outputs": [
    {
     "data": {
      "image/png": "[encoded data removed]",
      "text/plain": [
       "<Figure size 1080x576 with 1 Axes>"
      ]
     },
     "metadata": {
      "needs_background": "light"
     },
     "output_type": "display_data"
    }
   ],
   "source": [
    "plt.plot(train['People'], label='Train')\n",
    "plt.plot(test['People'], label='Test')\n",
    "plt.plot(pred, label='Holt_damped')\n",
    "plt.legend(loc='best')\n",
    "plt.show()"
   ]
  },
  {
   "cell_type": "markdown",
   "metadata": {},
   "source": [
    "Build the DCF model in python."
   ]
  },
  {
   "cell_type": "code",
   "execution_count": 190,
   "metadata": {},
   "outputs": [],
   "source": [
    "avg_people = [pred[34:46].mean(),pred[46:58].mean(),pred[46:70].mean(),pred[70:82].mean(),pred[82:94].mean(),pred[94:106].mean(),pred[106:118].mean(),pred[118:130].mean(),pred[130:142].mean(),pred[142:153].mean()]"
   ]
  },
  {
   "cell_type": "code",
   "execution_count": 198,
   "metadata": {},
   "outputs": [],
   "source": [
    "perc_us = 0.33 \n",
    "FB_rev_UE_us = 13.5794874313488   \n",
    "FB_rev_UE_ros = 3.21162282610381  \n",
    "rev_UE_us = 0.3            \n",
    "rev_UE_ros =0.03  \n",
    "discount = 0.1\n",
    "perpetuity = 0.03"
   ]
  },
  {
   "cell_type": "code",
   "execution_count": 199,
   "metadata": {},
   "outputs": [],
   "source": [
    "cash_flow = []\n",
    "count = 0\n",
    "for i in range(10):\n",
    "    ppl_w = avg_people[i]\n",
    "    ppl_us = ppl_w * perc_us\n",
    "    ppl_ros = ppl_w - ppl_us\n",
    "    user_eq_us = ppl_us / 2\n",
    "    user_eq_ros = ppl_ros / 2\n",
    "    revenue = (user_eq_us * FB_rev_UE_us + user_eq_ros * FB_rev_UE_ros) / 4.5\n",
    "    if i ==0:\n",
    "        revenue = revenue * (7/12)\n",
    "    operate = revenue * 0.317\n",
    "    if i == n-1 :\n",
    "        term = (operate * (1+perpetuity))/(discount - perpetuity)\n",
    "    else:\n",
    "        term = 0\n",
    "    cf = operate + term\n",
    "    cash_flow.append(cf)\n",
    "    count += 1\n",
    "    \n",
    "    perc_us = perc_us - 0.0167\n",
    "    FB_rev_UE_us = FB_rev_UE_us + rev_UE_us\n",
    "    FB_rev_UE_ros = FB_rev_UE_ros + rev_UE_ros\n",
    "\n",
    "value = 0\n",
    "for i in range(10):\n",
    "    value += cash_flow[i] * ((1+ discount)**(-i))"
   ]
  },
  {
   "cell_type": "code",
   "execution_count": 200,
   "metadata": {},
   "outputs": [
    {
     "name": "stdout",
     "output_type": "stream",
     "text": [
      "The new firm value is 420626944.4768739\n"
     ]
    }
   ],
   "source": [
    "print (\"The new firm value is \" + str(value))"
   ]
  },
  {
   "cell_type": "markdown",
   "metadata": {},
   "source": [
    "#### Facebook MAU forcasting"
   ]
  },
  {
   "cell_type": "code",
   "execution_count": 125,
   "metadata": {},
   "outputs": [],
   "source": [
    "df2 = pd.read_excel(open('Yahoo.xlsx','rb'),sheet_name='Exhibit 4',index_col=None)"
   ]
  },
  {
   "cell_type": "code",
   "execution_count": 126,
   "metadata": {},
   "outputs": [],
   "source": [
    "df2 = df2[6:16]"
   ]
  },
  {
   "cell_type": "code",
   "execution_count": 128,
   "metadata": {},
   "outputs": [],
   "source": [
    "df2.columns = df2.iloc[0]"
   ]
  },
  {
   "cell_type": "code",
   "execution_count": 130,
   "metadata": {},
   "outputs": [],
   "source": [
    "df2 = df2[1:]"
   ]
  },
  {
   "cell_type": "code",
   "execution_count": 132,
   "metadata": {},
   "outputs": [],
   "source": [
    "df2 = df2.reset_index()"
   ]
  },
  {
   "cell_type": "code",
   "execution_count": 180,
   "metadata": {},
   "outputs": [
    {
     "data": {
      "text/html": [
       "<div>\n",
       "<style scoped>\n",
       "    .dataframe tbody tr th:only-of-type {\n",
       "        vertical-align: middle;\n",
       "    }\n",
       "\n",
       "    .dataframe tbody tr th {\n",
       "        vertical-align: top;\n",
       "    }\n",
       "\n",
       "    .dataframe thead th {\n",
       "        text-align: right;\n",
       "    }\n",
       "</style>\n",
       "<table border=\"1\" class=\"dataframe\">\n",
       "  <thead>\n",
       "    <tr style=\"text-align: right;\">\n",
       "      <th>6</th>\n",
       "      <th>index</th>\n",
       "      <th>Quarter</th>\n",
       "      <th>Advertising</th>\n",
       "      <th>Other Fees</th>\n",
       "      <th>Total Revenue</th>\n",
       "      <th>MAU</th>\n",
       "      <th>DAU</th>\n",
       "      <th>DAU/MAU</th>\n",
       "      <th>ARPU</th>\n",
       "    </tr>\n",
       "  </thead>\n",
       "  <tbody>\n",
       "    <tr>\n",
       "      <th>0</th>\n",
       "      <td>7</td>\n",
       "      <td>2010:Q3</td>\n",
       "      <td>NaN</td>\n",
       "      <td>NaN</td>\n",
       "      <td>NaN</td>\n",
       "      <td>550</td>\n",
       "      <td>NaN</td>\n",
       "      <td>NaN</td>\n",
       "      <td>NaN</td>\n",
       "    </tr>\n",
       "    <tr>\n",
       "      <th>1</th>\n",
       "      <td>8</td>\n",
       "      <td>2010:Q4</td>\n",
       "      <td>655</td>\n",
       "      <td>76</td>\n",
       "      <td>731</td>\n",
       "      <td>608</td>\n",
       "      <td>327</td>\n",
       "      <td>0.537829</td>\n",
       "      <td>1.26252</td>\n",
       "    </tr>\n",
       "    <tr>\n",
       "      <th>2</th>\n",
       "      <td>9</td>\n",
       "      <td>2011:Q1</td>\n",
       "      <td>637</td>\n",
       "      <td>94</td>\n",
       "      <td>731</td>\n",
       "      <td>680</td>\n",
       "      <td>372</td>\n",
       "      <td>0.547059</td>\n",
       "      <td>1.13509</td>\n",
       "    </tr>\n",
       "    <tr>\n",
       "      <th>3</th>\n",
       "      <td>10</td>\n",
       "      <td>2011:Q2</td>\n",
       "      <td>776</td>\n",
       "      <td>119</td>\n",
       "      <td>895</td>\n",
       "      <td>739</td>\n",
       "      <td>417</td>\n",
       "      <td>0.564276</td>\n",
       "      <td>1.26145</td>\n",
       "    </tr>\n",
       "    <tr>\n",
       "      <th>4</th>\n",
       "      <td>11</td>\n",
       "      <td>2011:Q3</td>\n",
       "      <td>798</td>\n",
       "      <td>156</td>\n",
       "      <td>954</td>\n",
       "      <td>800</td>\n",
       "      <td>457</td>\n",
       "      <td>0.57125</td>\n",
       "      <td>1.23977</td>\n",
       "    </tr>\n",
       "    <tr>\n",
       "      <th>5</th>\n",
       "      <td>12</td>\n",
       "      <td>2011:Q4</td>\n",
       "      <td>943</td>\n",
       "      <td>188</td>\n",
       "      <td>1131</td>\n",
       "      <td>845</td>\n",
       "      <td>483</td>\n",
       "      <td>0.571598</td>\n",
       "      <td>1.37508</td>\n",
       "    </tr>\n",
       "    <tr>\n",
       "      <th>6</th>\n",
       "      <td>13</td>\n",
       "      <td>2012:Q1</td>\n",
       "      <td>872</td>\n",
       "      <td>186</td>\n",
       "      <td>1058</td>\n",
       "      <td>901</td>\n",
       "      <td>526</td>\n",
       "      <td>0.583796</td>\n",
       "      <td>1.21191</td>\n",
       "    </tr>\n",
       "    <tr>\n",
       "      <th>7</th>\n",
       "      <td>14</td>\n",
       "      <td>2012:Q2</td>\n",
       "      <td>992</td>\n",
       "      <td>192</td>\n",
       "      <td>1184</td>\n",
       "      <td>955</td>\n",
       "      <td>552</td>\n",
       "      <td>0.57801</td>\n",
       "      <td>1.27586</td>\n",
       "    </tr>\n",
       "    <tr>\n",
       "      <th>8</th>\n",
       "      <td>15</td>\n",
       "      <td>2012:Q3</td>\n",
       "      <td>1086</td>\n",
       "      <td>176</td>\n",
       "      <td>1262</td>\n",
       "      <td>1007</td>\n",
       "      <td>584</td>\n",
       "      <td>0.57994</td>\n",
       "      <td>1.28644</td>\n",
       "    </tr>\n",
       "  </tbody>\n",
       "</table>\n",
       "</div>"
      ],
      "text/plain": [
       "6  index  Quarter Advertising Other Fees Total Revenue   MAU  DAU   DAU/MAU  \\\n",
       "0      7  2010:Q3         NaN        NaN           NaN   550  NaN       NaN   \n",
       "1      8  2010:Q4         655         76           731   608  327  0.537829   \n",
       "2      9  2011:Q1         637         94           731   680  372  0.547059   \n",
       "3     10  2011:Q2         776        119           895   739  417  0.564276   \n",
       "4     11  2011:Q3         798        156           954   800  457   0.57125   \n",
       "5     12  2011:Q4         943        188          1131   845  483  0.571598   \n",
       "6     13  2012:Q1         872        186          1058   901  526  0.583796   \n",
       "7     14  2012:Q2         992        192          1184   955  552   0.57801   \n",
       "8     15  2012:Q3        1086        176          1262  1007  584   0.57994   \n",
       "\n",
       "6     ARPU  \n",
       "0      NaN  \n",
       "1  1.26252  \n",
       "2  1.13509  \n",
       "3  1.26145  \n",
       "4  1.23977  \n",
       "5  1.37508  \n",
       "6  1.21191  \n",
       "7  1.27586  \n",
       "8  1.28644  "
      ]
     },
     "execution_count": 180,
     "metadata": {},
     "output_type": "execute_result"
    }
   ],
   "source": [
    "df2"
   ]
  },
  {
   "cell_type": "code",
   "execution_count": 134,
   "metadata": {},
   "outputs": [],
   "source": [
    "fcst = df2[\"MAU\"]"
   ]
  },
  {
   "cell_type": "code",
   "execution_count": 150,
   "metadata": {},
   "outputs": [],
   "source": [
    "fit4 = Holt(np.asarray(fcst),damped=True).fit(smoothing_level = 0.8,smoothing_slope = 0.2)\n",
    "fcast4 = fit4.forecast(41)"
   ]
  },
  {
   "cell_type": "code",
   "execution_count": 171,
   "metadata": {},
   "outputs": [],
   "source": [
    "Predict = fcast4.tolist()"
   ]
  },
  {
   "cell_type": "code",
   "execution_count": 179,
   "metadata": {},
   "outputs": [
    {
     "name": "stderr",
     "output_type": "stream",
     "text": [
      "No handles with labels found to put in legend.\n"
     ]
    },
    {
     "data": {
      "text/plain": [
       "[]"
      ]
     },
     "execution_count": 179,
     "metadata": {},
     "output_type": "execute_result"
    },
    {
     "data": {
      "image/png": "[encoded data removed]",
      "text/plain": [
       "<Figure size 1080x576 with 1 Axes>"
      ]
     },
     "metadata": {
      "needs_background": "light"
     },
     "output_type": "display_data"
    }
   ],
   "source": [
    "plt.plot(Predict,color='red')\n",
    "plt.legend()\n",
    "plt.plot()"
   ]
  },
  {
   "cell_type": "markdown",
   "metadata": {},
   "source": [
    "From the models, The firm value is over-estimated by tumblr due to their high estimate for their users growth in the future. I don't recommend Yahoo to acquire the firm. And also, from the forecasting for Facebook, we can see a robust increasing for MAU(which is much accurate than the metrics that Tumble gave). "
   ]
  },
  {
   "cell_type": "markdown",
   "metadata": {},
   "source": [
    "----------------------------------------End Of the Document------------------------------------------------------"
   ]
  },
  {
   "cell_type": "markdown",
   "metadata": {},
   "source": []
  }
 ],
 "metadata": {
  "kernelspec": {
   "display_name": "Python 3",
   "language": "python",
   "name": "python3"
  },
  "language_info": {
   "codemirror_mode": {
    "name": "ipython",
    "version": 3
   },
   "file_extension": ".py",
   "mimetype": "text/x-python",
   "name": "python",
   "nbconvert_exporter": "python",
   "pygments_lexer": "ipython3",
   "version": "3.7.2"
  }
 },
 "nbformat": 4,
 "nbformat_minor": 2
}
